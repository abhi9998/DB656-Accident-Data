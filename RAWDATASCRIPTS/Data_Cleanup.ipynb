{
  "cells": [
    {
      "cell_type": "code",
      "execution_count": null,
      "metadata": {
        "id": "gL8tyn2ZFflx"
      },
      "outputs": [],
      "source": [
        "import pandas as pd\n",
        "import numpy as np\n",
        "\n",
        "import matplotlib.pyplot as plt\n",
        "import seaborn as sns\n",
        "\n",
        "from scipy import stats\n",
        "\n",
        "import warnings\n",
        "warnings.filterwarnings(\"ignore\")"
      ]
    },
    {
      "cell_type": "code",
      "execution_count": null,
      "metadata": {
        "colab": {
          "base_uri": "https://localhost:8080/"
        },
        "id": "9F2vb1rpGzLP",
        "outputId": "566a5115-8862-4289-f5b0-23321fb35624"
      },
      "outputs": [
        {
          "output_type": "stream",
          "name": "stdout",
          "text": [
            "Mounted at /content/drive\n"
          ]
        }
      ],
      "source": [
        "from google.colab import drive\n",
        "drive.mount('/content/drive')"
      ]
    },
    {
      "cell_type": "code",
      "execution_count": null,
      "metadata": {
        "id": "2wvXuDkoG0wU"
      },
      "outputs": [],
      "source": [
        "Accidents = pd.read_csv('/content/drive/MyDrive/Accidents0515.csv',index_col='Accident_Index')\n",
        "Casualities = pd.read_csv('/content/drive/MyDrive/Casualties0515.csv',error_bad_lines=False,index_col='Accident_Index',warn_bad_lines=False)\n",
        "Vehicles = pd.read_csv('/content/drive/MyDrive/Vehicles0515.csv',error_bad_lines=False,index_col='Accident_Index',warn_bad_lines=False)\n"
      ]
    },
    {
      "cell_type": "markdown",
      "metadata": {
        "id": "jYQj2p6zDDCq"
      },
      "source": [
        "Select the data of 2014 year"
      ]
    },
    {
      "cell_type": "code",
      "execution_count": null,
      "metadata": {
        "colab": {
          "base_uri": "https://localhost:8080/"
        },
        "id": "yOVolm-0G48_",
        "outputId": "1c1c95f9-ac03-46a1-d4ca-c8ae95f7e1ef"
      },
      "outputs": [
        {
          "name": "stdout",
          "output_type": "stream",
          "text": [
            "<class 'pandas.core.frame.DataFrame'>\n",
            "Index: 146322 entries, 201401BS70001 to 2014984139614\n",
            "Data columns (total 23 columns):\n",
            " #   Column                                   Non-Null Count   Dtype         \n",
            "---  ------                                   --------------   -----         \n",
            " 0   Longitude                                146322 non-null  float64       \n",
            " 1   Latitude                                 146322 non-null  float64       \n",
            " 2   Police_Force                             146322 non-null  int64         \n",
            " 3   Accident_Severity                        146322 non-null  int64         \n",
            " 4   Number_of_Vehicles                       146322 non-null  int64         \n",
            " 5   Number_of_Casualties                     146322 non-null  int64         \n",
            " 6   Date                                     146322 non-null  datetime64[ns]\n",
            " 7   Day_of_Week                              146322 non-null  int64         \n",
            " 8   Time                                     146322 non-null  object        \n",
            " 9   Local_Authority_(District)               146322 non-null  int64         \n",
            " 10  Local_Authority_(Highway)                146322 non-null  object        \n",
            " 11  1st_Road_Class                           146322 non-null  int64         \n",
            " 12  1st_Road_Number                          146322 non-null  int64         \n",
            " 13  Road_Type                                146322 non-null  int64         \n",
            " 14  Speed_limit                              146322 non-null  int64         \n",
            " 15  Junction_Detail                          146322 non-null  int64         \n",
            " 16  Junction_Control                         146322 non-null  int64         \n",
            " 17  Pedestrian_Crossing-Physical_Facilities  146322 non-null  int64         \n",
            " 18  Light_Conditions                         146322 non-null  int64         \n",
            " 19  Weather_Conditions                       146322 non-null  int64         \n",
            " 20  Road_Surface_Conditions                  146322 non-null  int64         \n",
            " 21  Special_Conditions_at_Site               146322 non-null  int64         \n",
            " 22  Urban_or_Rural_Area                      146322 non-null  int64         \n",
            "dtypes: datetime64[ns](1), float64(2), int64(18), object(2)\n",
            "memory usage: 26.8+ MB\n"
          ]
        }
      ],
      "source": [
        "# Accidents.info()\n",
        "Accidents['Date'] = pd.to_datetime(Accidents['Date'])\n",
        "NewAccidents=Accidents[(Accidents['Date'].dt.year ==2014)]\n",
        "NewAccidents=NewAccidents.drop([\"Location_Easting_OSGR\",\"Location_Northing_OSGR\",\"2nd_Road_Class\"\n",
        "            ,\"2nd_Road_Number\",\"Pedestrian_Crossing-Human_Control\",\"Carriageway_Hazards\",\n",
        "            \"Did_Police_Officer_Attend_Scene_of_Accident\",\"LSOA_of_Accident_Location\"] , axis='columns')\n",
        "NewAccidents.info()"
      ]
    },
    {
      "cell_type": "code",
      "execution_count": null,
      "metadata": {
        "colab": {
          "base_uri": "https://localhost:8080/"
        },
        "id": "Uv72eloMjffv",
        "outputId": "f7086401-90bd-4f27-b897-efe0b1ad86c7"
      },
      "outputs": [
        {
          "name": "stdout",
          "output_type": "stream",
          "text": [
            "<class 'pandas.core.frame.DataFrame'>\n",
            "Index: 268527 entries, 201401BS70001 to 2014984139614\n",
            "Data columns (total 15 columns):\n",
            " #   Column                            Non-Null Count   Dtype\n",
            "---  ------                            --------------   -----\n",
            " 0   Vehicle_Reference                 268527 non-null  int64\n",
            " 1   Vehicle_Type                      268527 non-null  int64\n",
            " 2   Vehicle_Manoeuvre                 268527 non-null  int64\n",
            " 3   Vehicle_Location-Restricted_Lane  268527 non-null  int64\n",
            " 4   Junction_Location                 268527 non-null  int64\n",
            " 5   Skidding_and_Overturning          268527 non-null  int64\n",
            " 6   Hit_Object_in_Carriageway         268527 non-null  int64\n",
            " 7   Vehicle_Leaving_Carriageway       268527 non-null  int64\n",
            " 8   1st_Point_of_Impact               268527 non-null  int64\n",
            " 9   Journey_Purpose_of_Driver         268527 non-null  int64\n",
            " 10  Sex_of_Driver                     268527 non-null  int64\n",
            " 11  Age_of_Driver                     268527 non-null  int64\n",
            " 12  Age_Band_of_Driver                268527 non-null  int64\n",
            " 13  Engine_Capacity_(CC)              268527 non-null  int64\n",
            " 14  Age_of_Vehicle                    268527 non-null  int64\n",
            "dtypes: int64(15)\n",
            "memory usage: 32.8+ MB\n"
          ]
        }
      ],
      "source": [
        "# cleaning the other accidents index and retaining only needed\n",
        "NewVehicles=Vehicles[Vehicles.index.isin(NewAccidents.index)]\n",
        "\n",
        "NewVehicles=NewVehicles.drop([\"Towing_and_Articulation\",\n",
        "                               \"Hit_Object_off_Carriageway\",\"Was_Vehicle_Left_Hand_Drive?\",\"Propulsion_Code\",\"Driver_IMD_Decile\",\"Driver_Home_Area_Type\"] , axis='columns')\n",
        "NewVehicles.info()"
      ]
    },
    {
      "cell_type": "code",
      "execution_count": null,
      "metadata": {
        "id": "mJLdNEYTk8aQ"
      },
      "outputs": [],
      "source": [
        "NewCasualities=Casualities[Casualities.index.isin(NewAccidents.index)]\n",
        "\n",
        "NewCasualities=NewCasualities.drop([\"Car_Passenger\",\"Bus_or_Coach_Passenger\",\"Pedestrian_Road_Maintenance_Worker\",\n",
        "                               \"Casualty_Home_Area_Type\"] , axis='columns')\n"
      ]
    },
    {
      "cell_type": "code",
      "execution_count": null,
      "metadata": {
        "id": "7PZ3m6O5liF2"
      },
      "outputs": [],
      "source": [
        "NewCasualities.to_csv(\"casualities_2011-15.csv\")\n",
        "NewVehicles.to_csv(\"vehicle_2011-15.csv\")\n",
        "NewAccidents.to_csv(\"accident_2011-15.csv\")"
      ]
    },
    {
      "cell_type": "markdown",
      "metadata": {
        "id": "mN5-gL0JFrkh"
      },
      "source": [
        "## **This portion is about merging the data from the other table to the main table**"
      ]
    },
    {
      "cell_type": "code",
      "execution_count": null,
      "metadata": {
        "id": "oO_PZIhVFxE4"
      },
      "outputs": [],
      "source": [
        "A = pd.read_csv('/content/accident_2011-15.csv')\n",
        "C = pd.read_csv('/content/casualities_2011-15.csv',error_bad_lines=False,warn_bad_lines=False)\n",
        "V = pd.read_csv('/content/vehicle_2011-15.csv',error_bad_lines=False,warn_bad_lines=False)"
      ]
    },
    {
      "cell_type": "code",
      "execution_count": null,
      "metadata": {
        "colab": {
          "base_uri": "https://localhost:8080/"
        },
        "id": "g57U5Tm0pi40",
        "outputId": "d35f42d4-c421-4ff2-88ca-d9aacbacec1f"
      },
      "outputs": [
        {
          "name": "stdout",
          "output_type": "stream",
          "text": [
            "<class 'pandas.core.frame.DataFrame'>\n",
            "RangeIndex: 146322 entries, 0 to 146321\n",
            "Data columns (total 24 columns):\n",
            " #   Column                                   Non-Null Count   Dtype  \n",
            "---  ------                                   --------------   -----  \n",
            " 0   Accident_Index                           146322 non-null  object \n",
            " 1   Longitude                                146322 non-null  float64\n",
            " 2   Latitude                                 146322 non-null  float64\n",
            " 3   Police_Force                             146322 non-null  int64  \n",
            " 4   Accident_Severity                        146322 non-null  int64  \n",
            " 5   Number_of_Vehicles                       146322 non-null  int64  \n",
            " 6   Number_of_Casualties                     146322 non-null  int64  \n",
            " 7   Date                                     146322 non-null  object \n",
            " 8   Day_of_Week                              146322 non-null  int64  \n",
            " 9   Time                                     146322 non-null  object \n",
            " 10  Local_Authority_(District)               146322 non-null  int64  \n",
            " 11  Local_Authority_(Highway)                146322 non-null  object \n",
            " 12  1st_Road_Class                           146322 non-null  int64  \n",
            " 13  1st_Road_Number                          146322 non-null  int64  \n",
            " 14  Road_Type                                146322 non-null  int64  \n",
            " 15  Speed_limit                              146322 non-null  int64  \n",
            " 16  Junction_Detail                          146322 non-null  int64  \n",
            " 17  Junction_Control                         146322 non-null  int64  \n",
            " 18  Pedestrian_Crossing-Physical_Facilities  146322 non-null  int64  \n",
            " 19  Light_Conditions                         146322 non-null  int64  \n",
            " 20  Weather_Conditions                       146322 non-null  int64  \n",
            " 21  Road_Surface_Conditions                  146322 non-null  int64  \n",
            " 22  Special_Conditions_at_Site               146322 non-null  int64  \n",
            " 23  Urban_or_Rural_Area                      146322 non-null  int64  \n",
            "dtypes: float64(2), int64(18), object(4)\n",
            "memory usage: 26.8+ MB\n",
            "<class 'pandas.core.frame.DataFrame'>\n",
            "RangeIndex: 194477 entries, 0 to 194476\n",
            "Data columns (total 11 columns):\n",
            " #   Column                Non-Null Count   Dtype \n",
            "---  ------                --------------   ----- \n",
            " 0   Accident_Index        194477 non-null  object\n",
            " 1   Vehicle_Reference     194477 non-null  int64 \n",
            " 2   Casualty_Reference    194477 non-null  int64 \n",
            " 3   Casualty_Class        194477 non-null  int64 \n",
            " 4   Sex_of_Casualty       194477 non-null  int64 \n",
            " 5   Age_of_Casualty       194477 non-null  int64 \n",
            " 6   Age_Band_of_Casualty  194477 non-null  int64 \n",
            " 7   Casualty_Severity     194477 non-null  int64 \n",
            " 8   Pedestrian_Location   194477 non-null  int64 \n",
            " 9   Pedestrian_Movement   194477 non-null  int64 \n",
            " 10  Casualty_Type         194477 non-null  int64 \n",
            "dtypes: int64(10), object(1)\n",
            "memory usage: 16.3+ MB\n",
            "<class 'pandas.core.frame.DataFrame'>\n",
            "RangeIndex: 268527 entries, 0 to 268526\n",
            "Data columns (total 16 columns):\n",
            " #   Column                            Non-Null Count   Dtype \n",
            "---  ------                            --------------   ----- \n",
            " 0   Accident_Index                    268527 non-null  object\n",
            " 1   Vehicle_Reference                 268527 non-null  int64 \n",
            " 2   Vehicle_Type                      268527 non-null  int64 \n",
            " 3   Vehicle_Manoeuvre                 268527 non-null  int64 \n",
            " 4   Vehicle_Location-Restricted_Lane  268527 non-null  int64 \n",
            " 5   Junction_Location                 268527 non-null  int64 \n",
            " 6   Skidding_and_Overturning          268527 non-null  int64 \n",
            " 7   Hit_Object_in_Carriageway         268527 non-null  int64 \n",
            " 8   Vehicle_Leaving_Carriageway       268527 non-null  int64 \n",
            " 9   1st_Point_of_Impact               268527 non-null  int64 \n",
            " 10  Journey_Purpose_of_Driver         268527 non-null  int64 \n",
            " 11  Sex_of_Driver                     268527 non-null  int64 \n",
            " 12  Age_of_Driver                     268527 non-null  int64 \n",
            " 13  Age_Band_of_Driver                268527 non-null  int64 \n",
            " 14  Engine_Capacity_(CC)              268527 non-null  int64 \n",
            " 15  Age_of_Vehicle                    268527 non-null  int64 \n",
            "dtypes: int64(15), object(1)\n",
            "memory usage: 32.8+ MB\n"
          ]
        }
      ],
      "source": [
        "A.info()\n",
        "C.info()\n",
        "V.info()"
      ]
    },
    {
      "cell_type": "markdown",
      "metadata": {
        "id": "ja0j5PAoUDw8"
      },
      "source": [
        "Repair Accident Data"
      ]
    },
    {
      "cell_type": "code",
      "execution_count": null,
      "metadata": {
        "id": "CawyR9gmUF7j"
      },
      "outputs": [],
      "source": [
        "police_force = pd.read_csv('/content/drive/MyDrive/contextCSVs/Police_Force.csv')\n",
        "df_cd = pd.merge(A, police_force, how='inner', left_on = 'Police_Force', right_on = 'code')\n",
        "df_cd.drop(['Police_Force','code'],axis=1,inplace=True)\n",
        "df_cd.rename(columns={'label':'police_force'}, inplace=True)\n",
        "\n",
        "\n",
        "\n",
        "accident_severity = pd.read_csv('/content/drive/MyDrive/contextCSVs/Accident_Severity.csv')\n",
        "df_cd2 = pd.merge(df_cd, accident_severity, how='inner', left_on = 'Accident_Severity', right_on = 'code')\n",
        "df_cd2.drop(['Accident_Severity','code'],axis=1,inplace=True)\n",
        "df_cd2.rename(columns={'label':'accident_severity'}, inplace=True)\n",
        "\n",
        "\n",
        "local_authority_district = pd.read_csv('/content/drive/MyDrive/contextCSVs/Local_Authority_District.csv')\n",
        "df_cd3 = pd.merge(df_cd2, local_authority_district, how='inner', left_on = 'Local_Authority_(District)', right_on = 'code')\n",
        "df_cd3.drop(['Local_Authority_(District)','code'],axis=1,inplace=True)\n",
        "df_cd3.rename(columns={'label':'local_authority_district'}, inplace=True)\n",
        "\n",
        "local_authority_highway = pd.read_csv('/content/drive/MyDrive/contextCSVs/Local_Authority_Highway.csv')\n",
        "df_cd4 = pd.merge(df_cd3, local_authority_highway, how='inner', left_on = 'Local_Authority_(Highway)', right_on = 'Code')\n",
        "df_cd4.drop(['Local_Authority_(Highway)','Code'],axis=1,inplace=True)\n",
        "df_cd4.rename(columns={'Label':'local_authority_highway'}, inplace=True)\n",
        "\n",
        "road_class = pd.read_csv('/content/drive/MyDrive/contextCSVs/Road_Class.csv')\n",
        "df_cd5 = pd.merge(df_cd4, road_class, how='inner', left_on = '1st_Road_Class', right_on = 'code')\n",
        "df_cd5.drop(['1st_Road_Class','code'],axis=1,inplace=True)\n",
        "df_cd5.rename(columns={'label':'road_class'}, inplace=True)\n",
        "\n",
        "road_type = pd.read_csv('/content/drive/MyDrive/contextCSVs/Road_Type.csv')\n",
        "df_cd6 = pd.merge(df_cd5, road_type, how='inner', left_on = 'Road_Type', right_on = 'code')\n",
        "df_cd6.drop(['Road_Type','code'],axis=1,inplace=True)\n",
        "df_cd6.rename(columns={'label':'road_type'}, inplace=True)\n",
        "\n",
        "junction_detail = pd.read_csv('/content/drive/MyDrive/contextCSVs/Junction_Detail.csv')\n",
        "df_cd7 = pd.merge(df_cd6, junction_detail, how='inner', left_on = 'Junction_Detail', right_on = 'code')\n",
        "df_cd7.drop(['Junction_Detail','code'],axis=1,inplace=True)\n",
        "df_cd7.rename(columns={'label':'junction_detail'}, inplace=True)\n",
        "\n",
        "junction_control = pd.read_csv('/content/drive/MyDrive/contextCSVs/Junction_Control.csv')\n",
        "df_cd8 = pd.merge(df_cd7, junction_control, how='inner', left_on = 'Junction_Control', right_on = 'code')\n",
        "df_cd8.drop(['Junction_Control','code'],axis=1,inplace=True)\n",
        "df_cd8.rename(columns={'label':'junction_control'}, inplace=True)\n",
        "\n",
        "pedestrian_crossing_facility = pd.read_csv('/content/drive/MyDrive/contextCSVs/Ped_Cross_Physical.csv')\n",
        "df_cd9 = pd.merge(df_cd8, pedestrian_crossing_facility, how='inner', left_on = 'Pedestrian_Crossing-Physical_Facilities', right_on = 'code')\n",
        "df_cd9.drop(['Pedestrian_Crossing-Physical_Facilities','code'],axis=1,inplace=True)\n",
        "df_cd9.rename(columns={'label':'pedestrian_crossing_facility'}, inplace=True)\n",
        "\n",
        "weather_condition = pd.read_csv('/content/drive/MyDrive/contextCSVs/Weather_Conditions.csv')\n",
        "df_cd10 = pd.merge(df_cd9, weather_condition, how='inner', left_on = 'Weather_Conditions', right_on = 'code')\n",
        "df_cd10.drop(['Weather_Conditions','code'],axis=1,inplace=True)\n",
        "df_cd10.rename(columns={'label':'weather_conditon'}, inplace=True)\n",
        "\n",
        "light_conditon = pd.read_csv('/content/drive/MyDrive/contextCSVs/Light_Conditions.csv')\n",
        "df_cd11 = pd.merge(df_cd10, light_conditon, how='inner', left_on = 'Light_Conditions', right_on = 'code')\n",
        "df_cd11.drop(['Light_Conditions','code'],axis=1,inplace=True)\n",
        "df_cd11.rename(columns={'label':'light_condition'}, inplace=True)\n",
        "\n",
        "\n",
        "road_condition = pd.read_csv('/content/drive/MyDrive/contextCSVs/Road_Conditions.csv')\n",
        "df_cd12 = pd.merge(df_cd11, road_condition, how='inner', left_on = 'Road_Surface_Conditions', right_on = 'code')\n",
        "df_cd12.drop(['Road_Surface_Conditions','code'],axis=1,inplace=True)\n",
        "df_cd12.rename(columns={'label':'road_conditon'}, inplace=True)\n",
        "\n",
        "urban_rural = pd.read_csv('/content/drive/MyDrive/contextCSVs/Urban_Rural.csv')\n",
        "df_cd13 = pd.merge(df_cd12, urban_rural, how='inner', left_on = 'Urban_or_Rural_Area', right_on = 'code')\n",
        "df_cd13.drop(['Urban_or_Rural_Area','code'],axis=1,inplace=True)\n",
        "df_cd13.rename(columns={'label':'urban_or_rural'}, inplace=True)\n",
        "\n",
        "special_condition = pd.read_csv('/content/drive/MyDrive/contextCSVs/special-conditon.csv')\n",
        "df_cd14 = pd.merge(df_cd13, special_condition, how='inner', left_on = 'Special_Conditions_at_Site', right_on = 'code')\n",
        "df_cd14.drop(['Special_Conditions_at_Site','code'],axis=1,inplace=True)\n",
        "df_cd14.rename(columns={'label':'special_condition'}, inplace=True)\n"
      ]
    },
    {
      "cell_type": "code",
      "execution_count": null,
      "metadata": {
        "colab": {
          "base_uri": "https://localhost:8080/"
        },
        "id": "VwIr2Afwl98q",
        "outputId": "b4a663d6-0fec-4a4e-e447-bd4da217aa32"
      },
      "outputs": [
        {
          "name": "stdout",
          "output_type": "stream",
          "text": [
            "<class 'pandas.core.frame.DataFrame'>\n",
            "Int64Index: 146322 entries, 0 to 146321\n",
            "Data columns (total 24 columns):\n",
            " #   Column                        Non-Null Count   Dtype  \n",
            "---  ------                        --------------   -----  \n",
            " 0   Accident_Index                146322 non-null  object \n",
            " 1   Longitude                     146322 non-null  float64\n",
            " 2   Latitude                      146322 non-null  float64\n",
            " 3   Number_of_Vehicles            146322 non-null  int64  \n",
            " 4   Number_of_Casualties          146322 non-null  int64  \n",
            " 5   Date                          146322 non-null  object \n",
            " 6   Day_of_Week                   146322 non-null  int64  \n",
            " 7   Time                          146322 non-null  object \n",
            " 8   1st_Road_Number               146322 non-null  int64  \n",
            " 9   Speed_limit                   146322 non-null  int64  \n",
            " 10  police_force                  146322 non-null  object \n",
            " 11  accident_severity             146322 non-null  object \n",
            " 12  local_authority_district      146322 non-null  object \n",
            " 13  local_authority_highway       146322 non-null  object \n",
            " 14  road_class                    146322 non-null  object \n",
            " 15  road_type                     146322 non-null  object \n",
            " 16  junction_detail               146322 non-null  object \n",
            " 17  junction_control              146322 non-null  object \n",
            " 18  pedestrian_crossing_facility  146322 non-null  object \n",
            " 19  weather_conditon              146322 non-null  object \n",
            " 20  light_condition               146322 non-null  object \n",
            " 21  road_conditon                 146322 non-null  object \n",
            " 22  urban_or_rural                146322 non-null  object \n",
            " 23  special_condition             146322 non-null  object \n",
            "dtypes: float64(2), int64(5), object(17)\n",
            "memory usage: 27.9+ MB\n"
          ]
        }
      ],
      "source": [
        "df_cd14.info()"
      ]
    },
    {
      "cell_type": "code",
      "execution_count": null,
      "metadata": {
        "id": "-v5Hf-9RY7E3"
      },
      "outputs": [],
      "source": [
        "df_cd14.rename(columns={'Accident_Index':'accident_id'}, inplace=True)\n",
        "df_cd14.rename(columns={'Longitude':'longitude'}, inplace=True)\n",
        "df_cd14.rename(columns={'Latitude':'latitude'}, inplace=True)\n",
        "df_cd14.rename(columns={'Number_of_Vehicles':'number_of_vehicles'}, inplace=True)\n",
        "df_cd14.rename(columns={'Number_of_Casualties':'number_of_casualties'}, inplace=True)\n",
        "df_cd14.rename(columns={'Date':'date'}, inplace=True)\n",
        "df_cd14.rename(columns={'Day_of_Week':'day_of_week'}, inplace=True)\n",
        "df_cd14.rename(columns={'Time':'time'}, inplace=True)\n",
        "df_cd14.rename(columns={'1st_Road_Number':'road_number'}, inplace=True)\n",
        "df_cd14.rename(columns={'Speed_limit':'speed_limit'}, inplace=True)\n",
        "\n",
        "df_cd14.to_csv(\"accident_raw_clean.csv\")"
      ]
    },
    {
      "cell_type": "code",
      "execution_count": null,
      "metadata": {
        "colab": {
          "base_uri": "https://localhost:8080/"
        },
        "id": "2PGAYoBU8BpO",
        "outputId": "78968ab4-afa3-4d2e-d1e9-de0b1e90a7a9"
      },
      "outputs": [
        {
          "name": "stdout",
          "output_type": "stream",
          "text": [
            "<class 'pandas.core.frame.DataFrame'>\n",
            "Int64Index: 146322 entries, 0 to 146321\n",
            "Data columns (total 24 columns):\n",
            " #   Column                        Non-Null Count   Dtype  \n",
            "---  ------                        --------------   -----  \n",
            " 0   accident_id                   146322 non-null  object \n",
            " 1   longitude                     146322 non-null  float64\n",
            " 2   latitude                      146322 non-null  float64\n",
            " 3   number_of_vehicles            146322 non-null  int64  \n",
            " 4   number_of_casualties          146322 non-null  int64  \n",
            " 5   date                          146322 non-null  object \n",
            " 6   day_of_week                   146322 non-null  int64  \n",
            " 7   time                          146322 non-null  object \n",
            " 8   road_number                   146322 non-null  int64  \n",
            " 9   speed_limit                   146322 non-null  int64  \n",
            " 10  police_force                  146322 non-null  object \n",
            " 11  accident_severity             146322 non-null  object \n",
            " 12  local_authority_district      146322 non-null  object \n",
            " 13  local_authority_highway       146322 non-null  object \n",
            " 14  road_class                    146322 non-null  object \n",
            " 15  road_type                     146322 non-null  object \n",
            " 16  junction_detail               146322 non-null  object \n",
            " 17  junction_control              146322 non-null  object \n",
            " 18  pedestrian_crossing_facility  146322 non-null  object \n",
            " 19  weather_conditon              146322 non-null  object \n",
            " 20  light_condition               146322 non-null  object \n",
            " 21  road_conditon                 146322 non-null  object \n",
            " 22  urban_or_rural                146322 non-null  object \n",
            " 23  special_condition             146322 non-null  object \n",
            "dtypes: float64(2), int64(5), object(17)\n",
            "memory usage: 27.9+ MB\n"
          ]
        }
      ],
      "source": []
    },
    {
      "cell_type": "markdown",
      "metadata": {
        "id": "OCukxFqexRKD"
      },
      "source": [
        "Repair the vehicles data to merge together"
      ]
    },
    {
      "cell_type": "code",
      "execution_count": null,
      "metadata": {
        "colab": {
          "base_uri": "https://localhost:8080/"
        },
        "id": "n7yRyTOAb_If",
        "outputId": "9143b033-f692-4732-d5af-e7377e86f439"
      },
      "outputs": [
        {
          "name": "stdout",
          "output_type": "stream",
          "text": [
            "<class 'pandas.core.frame.DataFrame'>\n",
            "RangeIndex: 268527 entries, 0 to 268526\n",
            "Data columns (total 16 columns):\n",
            " #   Column                            Non-Null Count   Dtype \n",
            "---  ------                            --------------   ----- \n",
            " 0   Accident_Index                    268527 non-null  object\n",
            " 1   Vehicle_Reference                 268527 non-null  int64 \n",
            " 2   Vehicle_Type                      268527 non-null  int64 \n",
            " 3   Vehicle_Manoeuvre                 268527 non-null  int64 \n",
            " 4   Vehicle_Location-Restricted_Lane  268527 non-null  int64 \n",
            " 5   Junction_Location                 268527 non-null  int64 \n",
            " 6   Skidding_and_Overturning          268527 non-null  int64 \n",
            " 7   Hit_Object_in_Carriageway         268527 non-null  int64 \n",
            " 8   Vehicle_Leaving_Carriageway       268527 non-null  int64 \n",
            " 9   1st_Point_of_Impact               268527 non-null  int64 \n",
            " 10  Journey_Purpose_of_Driver         268527 non-null  int64 \n",
            " 11  Sex_of_Driver                     268527 non-null  int64 \n",
            " 12  Age_of_Driver                     268527 non-null  int64 \n",
            " 13  Age_Band_of_Driver                268527 non-null  int64 \n",
            " 14  Engine_Capacity_(CC)              268527 non-null  int64 \n",
            " 15  Age_of_Vehicle                    268527 non-null  int64 \n",
            "dtypes: int64(15), object(1)\n",
            "memory usage: 32.8+ MB\n"
          ]
        }
      ],
      "source": [
        "V.info()"
      ]
    },
    {
      "cell_type": "code",
      "execution_count": null,
      "metadata": {
        "id": "1-zdk-F0UPnJ"
      },
      "outputs": [],
      "source": [
        "vehicle_location = pd.read_csv('/content/drive/MyDrive/contextCSVs/Vehicle_Location.csv')\n",
        "df_cd = pd.merge(V, vehicle_location, how='inner', left_on = 'Vehicle_Location-Restricted_Lane', right_on = 'code')\n",
        "df_cd.drop(['Vehicle_Location-Restricted_Lane','code'],axis=1,inplace=True)\n",
        "df_cd.rename(columns={'label':'vehicle_location_restricted_lane'}, inplace=True)\n",
        "\n",
        "junction_location = pd.read_csv('/content/drive/MyDrive/contextCSVs/Junction_Location.csv')\n",
        "df_cd2 = pd.merge(df_cd, junction_location, how='inner', left_on = 'Junction_Location', right_on = 'code')\n",
        "df_cd2.drop(['Junction_Location','code'],axis=1,inplace=True)\n",
        "df_cd2.rename(columns={'label':'junction_location'}, inplace=True)\n",
        "\n",
        "hit_object_in_carriageway = pd.read_csv('/content/drive/MyDrive/contextCSVs/hit_object_in_carriageway.csv')\n",
        "df_cd3 = pd.merge(df_cd2, hit_object_in_carriageway, how='inner', left_on = 'Hit_Object_in_Carriageway', right_on = 'code')\n",
        "df_cd3.drop(['Hit_Object_in_Carriageway','code'],axis=1,inplace=True)\n",
        "df_cd3.rename(columns={'label':'hit_object_in_carriageway'}, inplace=True)\n",
        "\n",
        "\n",
        "point_of_contact = pd.read_csv('/content/drive/MyDrive/contextCSVs/Point_of_Impact.csv')\n",
        "df_cd4 = pd.merge(df_cd3, point_of_contact, how='inner', left_on = '1st_Point_of_Impact', right_on = 'code')\n",
        "df_cd4.drop(['1st_Point_of_Impact','code'],axis=1,inplace=True)\n",
        "df_cd4.rename(columns={'label':'point_of_impact'}, inplace=True)\n",
        "\n",
        "journey_purpose = pd.read_csv('/content/drive/MyDrive/contextCSVs/Journey_Purpose.csv')\n",
        "df_cd5 = pd.merge(df_cd4, journey_purpose, how='inner', left_on = 'Journey_Purpose_of_Driver', right_on = 'code')\n",
        "df_cd5.drop(['Journey_Purpose_of_Driver','code'],axis=1,inplace=True)\n",
        "df_cd5.rename(columns={'label':'journey_purpose'}, inplace=True)\n",
        "\n",
        "sex = pd.read_csv('/content/drive/MyDrive/contextCSVs/Sex_of_Driver.csv')\n",
        "df_cd6 = pd.merge(df_cd5, sex, how='inner', left_on = 'Sex_of_Driver', right_on = 'code')\n",
        "df_cd6.drop(['Sex_of_Driver','code'],axis=1,inplace=True)\n",
        "df_cd6.rename(columns={'label':'sex'}, inplace=True)\n",
        "\n",
        "age_band = pd.read_csv('/content/drive/MyDrive/contextCSVs/Age_Band.csv')\n",
        "df_cd7 = pd.merge(df_cd6, age_band, how='inner', left_on = 'Age_Band_of_Driver', right_on = 'code')\n",
        "df_cd7.drop(['Age_Band_of_Driver','code'],axis=1,inplace=True)\n",
        "df_cd7.rename(columns={'label':'age_group'}, inplace=True)\n",
        "\n",
        "vehicle_type = pd.read_csv('/content/drive/MyDrive/contextCSVs/Vehicle_Type.csv')\n",
        "df_cd8 = pd.merge(df_cd7, vehicle_type, how='inner', left_on = 'Vehicle_Type', right_on = 'code')\n",
        "df_cd8.drop(['Vehicle_Type','code'],axis=1,inplace=True)\n",
        "df_cd8.rename(columns={'label':'vehicle_type'}, inplace=True)\n",
        "\n",
        "vehicle_mano = pd.read_csv('/content/drive/MyDrive/contextCSVs/Vehicle_Manoeuvre.csv')\n",
        "df_cd9 = pd.merge(df_cd8, vehicle_mano, how='inner', left_on = 'Vehicle_Manoeuvre', right_on = 'code')\n",
        "df_cd9.drop(['Vehicle_Manoeuvre','code'],axis=1,inplace=True)\n",
        "df_cd9.rename(columns={'label':'vehicle_manoeuvre'}, inplace=True)\n",
        "\n",
        "skidding = pd.read_csv('/content/drive/MyDrive/contextCSVs/skidding.csv')\n",
        "df_cd10 = pd.merge(df_cd9, skidding, how='inner', left_on = 'Skidding_and_Overturning', right_on = 'code')\n",
        "df_cd10.drop(['Skidding_and_Overturning','code'],axis=1,inplace=True)\n",
        "df_cd10.rename(columns={'label':'skidding_and_overturning'}, inplace=True)\n",
        "\n",
        "vehicle_leaving = pd.read_csv('/content/drive/MyDrive/contextCSVs/vehicle-leaving.csv')\n",
        "df_cd11 = pd.merge(df_cd10, vehicle_leaving, how='inner', left_on = 'Vehicle_Leaving_Carriageway', right_on = 'code')\n",
        "df_cd11.drop(['Vehicle_Leaving_Carriageway','code'],axis=1,inplace=True)\n",
        "df_cd11.rename(columns={'label':'vehicle_leaving_carriageway'}, inplace=True)\n",
        "\n"
      ]
    },
    {
      "cell_type": "code",
      "execution_count": null,
      "metadata": {
        "colab": {
          "base_uri": "https://localhost:8080/"
        },
        "id": "_KvSPJ3yoB_q",
        "outputId": "41cdbb61-4c43-4215-aa7a-2bbf9fbee5cc"
      },
      "outputs": [
        {
          "name": "stdout",
          "output_type": "stream",
          "text": [
            "<class 'pandas.core.frame.DataFrame'>\n",
            "Int64Index: 268527 entries, 0 to 268526\n",
            "Data columns (total 16 columns):\n",
            " #   Column                            Non-Null Count   Dtype \n",
            "---  ------                            --------------   ----- \n",
            " 0   Accident_Index                    268527 non-null  object\n",
            " 1   Vehicle_Reference                 268527 non-null  int64 \n",
            " 2   Age_of_Driver                     268527 non-null  int64 \n",
            " 3   Engine_Capacity_(CC)              268527 non-null  int64 \n",
            " 4   Age_of_Vehicle                    268527 non-null  int64 \n",
            " 5   vehicle_location_restricted_lane  268527 non-null  object\n",
            " 6   junction_location                 268527 non-null  object\n",
            " 7   hit_object_in_carriageway         268527 non-null  object\n",
            " 8   point_of_impact                   268527 non-null  object\n",
            " 9   journey_purpose                   268527 non-null  object\n",
            " 10  sex                               268527 non-null  object\n",
            " 11  age_group                         268527 non-null  object\n",
            " 12  vehicle_type                      268527 non-null  object\n",
            " 13  vehicle_manoeuvre                 268527 non-null  object\n",
            " 14  skidding_and_overturning          268527 non-null  object\n",
            " 15  vehicle_leaving_carriageway       268527 non-null  object\n",
            "dtypes: int64(4), object(12)\n",
            "memory usage: 34.8+ MB\n"
          ]
        }
      ],
      "source": []
    },
    {
      "cell_type": "code",
      "execution_count": null,
      "metadata": {
        "id": "LpQYvywffk5f"
      },
      "outputs": [],
      "source": [
        "df_cd11.rename(columns={'Accident_Index':'accident_id'}, inplace=True)\n",
        "df_cd11.rename(columns={'Vehicle_Reference':'vehicle_id'}, inplace=True)\n",
        "df_cd11.rename(columns={'Age_of_Driver':'age'}, inplace=True)\n",
        "df_cd11.rename(columns={'Engine_Capacity_(CC)':'engine_capacity'}, inplace=True)\n",
        "df_cd11.rename(columns={'Age_of_Vehicle':'age_of_vehicle'}, inplace=True)\n",
        "df_cd11.to_csv(\"vehicle_raw_clean.csv\")"
      ]
    },
    {
      "cell_type": "code",
      "execution_count": null,
      "metadata": {
        "colab": {
          "base_uri": "https://localhost:8080/"
        },
        "id": "wmjkMNa5UfBM",
        "outputId": "0787fa0e-5a05-44ea-e78e-a53699fbd969"
      },
      "outputs": [
        {
          "name": "stdout",
          "output_type": "stream",
          "text": [
            "<class 'pandas.core.frame.DataFrame'>\n",
            "Int64Index: 268527 entries, 0 to 268526\n",
            "Data columns (total 16 columns):\n",
            " #   Column                            Non-Null Count   Dtype \n",
            "---  ------                            --------------   ----- \n",
            " 0   accident_id                       268527 non-null  object\n",
            " 1   vehicle_id                        268527 non-null  int64 \n",
            " 2   age                               268527 non-null  int64 \n",
            " 3   engine_capacity                   268527 non-null  int64 \n",
            " 4   age_of_vehicle                    268527 non-null  int64 \n",
            " 5   vehicle_location_restricted_lane  268527 non-null  object\n",
            " 6   junction_location                 268527 non-null  object\n",
            " 7   hit_object_in_carriageway         268527 non-null  object\n",
            " 8   point_of_impact                   268527 non-null  object\n",
            " 9   journey_purpose                   268527 non-null  object\n",
            " 10  sex                               268527 non-null  object\n",
            " 11  age_group                         268527 non-null  object\n",
            " 12  vehicle_type                      268527 non-null  object\n",
            " 13  vehicle_manoeuvre                 268527 non-null  object\n",
            " 14  skidding_and_overturning          268527 non-null  object\n",
            " 15  vehicle_leaving_carriageway       268527 non-null  object\n",
            "dtypes: int64(4), object(12)\n",
            "memory usage: 34.8+ MB\n"
          ]
        }
      ],
      "source": [
        "df_cd11.info()"
      ]
    },
    {
      "cell_type": "markdown",
      "metadata": {
        "id": "eDuWUnsTC75j"
      },
      "source": [
        "**Repair the data for Casualty**"
      ]
    },
    {
      "cell_type": "code",
      "execution_count": null,
      "metadata": {
        "colab": {
          "base_uri": "https://localhost:8080/"
        },
        "id": "AJMwlVXuC-0N",
        "outputId": "6921e631-67e0-42c5-93b6-5f6d9ac058e7"
      },
      "outputs": [
        {
          "name": "stdout",
          "output_type": "stream",
          "text": [
            "<class 'pandas.core.frame.DataFrame'>\n",
            "RangeIndex: 194477 entries, 0 to 194476\n",
            "Data columns (total 11 columns):\n",
            " #   Column                Non-Null Count   Dtype \n",
            "---  ------                --------------   ----- \n",
            " 0   Accident_Index        194477 non-null  object\n",
            " 1   Vehicle_Reference     194477 non-null  int64 \n",
            " 2   Casualty_Reference    194477 non-null  int64 \n",
            " 3   Casualty_Class        194477 non-null  int64 \n",
            " 4   Sex_of_Casualty       194477 non-null  int64 \n",
            " 5   Age_of_Casualty       194477 non-null  int64 \n",
            " 6   Age_Band_of_Casualty  194477 non-null  int64 \n",
            " 7   Casualty_Severity     194477 non-null  int64 \n",
            " 8   Pedestrian_Location   194477 non-null  int64 \n",
            " 9   Pedestrian_Movement   194477 non-null  int64 \n",
            " 10  Casualty_Type         194477 non-null  int64 \n",
            "dtypes: int64(10), object(1)\n",
            "memory usage: 16.3+ MB\n"
          ]
        }
      ],
      "source": [
        "C.info()"
      ]
    },
    {
      "cell_type": "code",
      "execution_count": null,
      "metadata": {
        "colab": {
          "base_uri": "https://localhost:8080/"
        },
        "id": "mN1hvw2YcAVE",
        "outputId": "7fd8cc87-c4e0-439f-f929-89f164dda707"
      },
      "outputs": [
        {
          "name": "stdout",
          "output_type": "stream",
          "text": [
            "<class 'pandas.core.frame.DataFrame'>\n",
            "Int64Index: 194477 entries, 0 to 194476\n",
            "Data columns (total 11 columns):\n",
            " #   Column               Non-Null Count   Dtype \n",
            "---  ------               --------------   ----- \n",
            " 0   accident_id          194477 non-null  object\n",
            " 1   vehicle_id           194477 non-null  int64 \n",
            " 2   casualty_id          194477 non-null  int64 \n",
            " 3   age                  194477 non-null  int64 \n",
            " 4   casualty_class       194477 non-null  object\n",
            " 5   sex                  194477 non-null  object\n",
            " 6   age_group            194477 non-null  object\n",
            " 7   casualty_severity    194477 non-null  object\n",
            " 8   pedestrian_movement  194477 non-null  object\n",
            " 9   pedestrian_location  194477 non-null  object\n",
            " 10  casualty_type        194477 non-null  object\n",
            "dtypes: int64(3), object(8)\n",
            "memory usage: 17.8+ MB\n"
          ]
        }
      ],
      "source": [
        "casualty_class = pd.read_csv('/content/drive/MyDrive/contextCSVs/Casualty_Class.csv')\n",
        "df_cd = pd.merge(C, casualty_class, how='inner', left_on = 'Casualty_Class', right_on = 'code')\n",
        "df_cd.drop(['Casualty_Class','code'],axis=1,inplace=True)\n",
        "df_cd.rename(columns={'label':'casualty_class'}, inplace=True)\n",
        "\n",
        "sex = pd.read_csv('/content/drive/MyDrive/contextCSVs/Sex_of_Driver.csv')\n",
        "df_cd2 = pd.merge(df_cd, sex, how='inner', left_on = 'Sex_of_Casualty', right_on = 'code')\n",
        "df_cd2.drop(['Sex_of_Casualty','code'],axis=1,inplace=True)\n",
        "df_cd2.rename(columns={'label':'sex'}, inplace=True)\n",
        "\n",
        "age_group = pd.read_csv('/content/drive/MyDrive/contextCSVs/Age_Band.csv')\n",
        "df_cd3 = pd.merge(df_cd2, age_group, how='inner', left_on = 'Age_Band_of_Casualty', right_on = 'code')\n",
        "df_cd3.drop(['Age_Band_of_Casualty','code'],axis=1,inplace=True)\n",
        "df_cd3.rename(columns={'label':'age_group'}, inplace=True)\n",
        "\n",
        "casualty_severity = pd.read_csv('/content/drive/MyDrive/contextCSVs/Casualty_Severity.csv')\n",
        "df_cd4 = pd.merge(df_cd3, casualty_severity, how='inner', left_on = 'Casualty_Severity', right_on = 'code')\n",
        "df_cd4.drop(['Casualty_Severity','code'],axis=1,inplace=True)\n",
        "df_cd4.rename(columns={'label':'casualty_severity'}, inplace=True)\n",
        "\n",
        "ped_movement = pd.read_csv('/content/drive/MyDrive/contextCSVs/Ped_Movement.csv')\n",
        "df_cd5 = pd.merge(df_cd4, ped_movement, how='inner', left_on = 'Pedestrian_Movement', right_on = 'code')\n",
        "df_cd5.drop(['Pedestrian_Movement','code'],axis=1,inplace=True)\n",
        "df_cd5.rename(columns={'label':'pedestrian_movement'}, inplace=True)\n",
        "\n",
        "ped_loc = pd.read_csv('/content/drive/MyDrive/contextCSVs/Ped_Location.csv')\n",
        "df_cd6 = pd.merge(df_cd5, ped_loc, how='inner', left_on = 'Pedestrian_Location', right_on = 'code')\n",
        "df_cd6.drop(['Pedestrian_Location','code'],axis=1,inplace=True)\n",
        "df_cd6.rename(columns={'label':'pedestrian_location'}, inplace=True)\n",
        "\n",
        "casualty_type = pd.read_csv('/content/drive/MyDrive/contextCSVs/Casualty_Type.csv')\n",
        "df_cd7 = pd.merge(df_cd6, casualty_type, how='inner', left_on = 'Casualty_Type', right_on = 'code')\n",
        "df_cd7.drop(['Casualty_Type','code'],axis=1,inplace=True)\n",
        "df_cd7.rename(columns={'label':'casualty_type'}, inplace=True)\n",
        "\n",
        "\n",
        "df_cd7.rename(columns={'Accident_Index':'accident_id'}, inplace=True)\n",
        "df_cd7.rename(columns={'Vehicle_Reference':'vehicle_id'}, inplace=True)\n",
        "df_cd7.rename(columns={'Casualty_Reference':'casualty_id'}, inplace=True)\n",
        "df_cd7.rename(columns={'Age_of_Casualty':'age'}, inplace=True)\n",
        "\n",
        "\n",
        "df_cd7.info()"
      ]
    },
    {
      "cell_type": "code",
      "execution_count": null,
      "metadata": {
        "id": "ollsnYb2j0jv"
      },
      "outputs": [],
      "source": [
        "df_cd7.to_csv(\"casualty_raw_clean.csv\")"
      ]
    },
    {
      "cell_type": "code",
      "execution_count": null,
      "metadata": {
        "colab": {
          "base_uri": "https://localhost:8080/"
        },
        "id": "NgNVhlxCjChM",
        "outputId": "0a31e39a-74e6-42a0-beea-48da1cea0350"
      },
      "outputs": [
        {
          "name": "stdout",
          "output_type": "stream",
          "text": [
            "<class 'pandas.core.frame.DataFrame'>\n",
            "Int64Index: 194477 entries, 0 to 194476\n",
            "Data columns (total 11 columns):\n",
            " #   Column               Non-Null Count   Dtype \n",
            "---  ------               --------------   ----- \n",
            " 0   accident_id          194477 non-null  object\n",
            " 1   vehicle_id           194477 non-null  int64 \n",
            " 2   casualty_id          194477 non-null  int64 \n",
            " 3   age                  194477 non-null  int64 \n",
            " 4   casualty_class       194477 non-null  object\n",
            " 5   sex                  194477 non-null  object\n",
            " 6   age_group            194477 non-null  object\n",
            " 7   casualty_severity    194477 non-null  object\n",
            " 8   pedestrian_movement  194477 non-null  object\n",
            " 9   pedestrian_location  194477 non-null  object\n",
            " 10  casualty_type        194477 non-null  object\n",
            "dtypes: int64(3), object(8)\n",
            "memory usage: 17.8+ MB\n"
          ]
        }
      ],
      "source": [
        "df_cd7.info()"
      ]
    },
    {
      "cell_type": "code",
      "execution_count": null,
      "metadata": {
        "id": "m5D2yn4huauf"
      },
      "outputs": [],
      "source": []
    }
  ],
  "metadata": {
    "colab": {
      "provenance": []
    },
    "kernelspec": {
      "display_name": "Python 3",
      "name": "python3"
    },
    "language_info": {
      "name": "python"
    }
  },
  "nbformat": 4,
  "nbformat_minor": 0
}